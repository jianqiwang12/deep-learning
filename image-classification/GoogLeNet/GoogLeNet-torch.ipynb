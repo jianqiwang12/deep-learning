{
 "cells": [
  {
   "cell_type": "code",
   "execution_count": 1,
   "metadata": {},
   "outputs": [],
   "source": [
    "import torch\n",
    "import torchvision\n",
    "from torch import nn \n",
    "from torch.nn import functional as F"
   ]
  },
  {
   "cell_type": "code",
   "execution_count": 2,
   "metadata": {},
   "outputs": [],
   "source": [
    "class Inception(nn.Module):\n",
    "\n",
    "    def __init__(self, in_channels, c1, c2, c3, c4):\n",
    "        super().__init__()\n",
    "        \n",
    "        # 线路1, 单1x1卷积层\n",
    "        self.p1_1 = nn.Conv2d(in_channels, c1, kernel_size=1)\n",
    "\n",
    "        # 线路2, 1x1卷积层后接3x3卷积层\n",
    "        self.p2_1 = nn.Conv2d(in_channels, c2[0], kernel_size=1)\n",
    "        self.p2_2 = nn.Conv2d(c2[0], c2[1], kernel_size=3, padding=1)\n",
    "\n",
    "        # 线路3, 1x1卷积层后接5x5卷积层\n",
    "        self.p3_1 = nn.Conv2d(in_channels, c3[0], kernel_size=1)\n",
    "        self.p3_2 = nn.Conv2d(c3[0], c3[1], kernel_size=5, padding=2)\n",
    "\n",
    "        # 线路4, 3x3最大池化层后接1x1卷积层\n",
    "        self.p4_1 = nn.MaxPool2d(kernel_size=3, stride=1, padding=1)\n",
    "        self.p4_2 = nn.Conv2d(in_channels, c4, kernel_size=1)\n",
    "\n",
    "    def forward(self, x):\n",
    "        p1 = F.relu(self.p1_1(x))\n",
    "        p2 = F.relu(self.p2_2(F.relu(self.p2_1(x))))\n",
    "        p3 = F.relu(self.p3_2(F.relu(self.p3_1(x))))\n",
    "        p4 = F.relu(self.p4_2(self.p4_1(x)))\n",
    "\n",
    "        return torch.cat((p1, p2, p3, p4), dim=1)"
   ]
  },
  {
   "cell_type": "code",
   "execution_count": 3,
   "metadata": {},
   "outputs": [],
   "source": [
    "b1 = nn.Sequential(\n",
    "    nn.Conv2d(1, 64, kernel_size=7, stride=2, padding=3),\n",
    "    nn.ReLU(),\n",
    "    nn.MaxPool2d(kernel_size=3, stride=2, padding=1)\n",
    ")\n",
    "\n",
    "b2 = nn.Sequential(\n",
    "    nn.Conv2d(64, 64, kernel_size=1),\n",
    "    nn.ReLU(),\n",
    "    nn.Conv2d(64, 192, kernel_size=3, padding=1),\n",
    "    nn.ReLU(),\n",
    "    nn.MaxPool2d(kernel_size=3, stride=2, padding=1)\n",
    ")\n",
    "\n",
    "b3 = nn.Sequential(\n",
    "    Inception(192, 64, (96,128), (16,32), 32),\n",
    "    Inception(256, 128, (128,192), (32,96), 64),\n",
    "    nn.MaxPool2d(kernel_size=3, stride=2, padding=1)\n",
    ")\n",
    "\n",
    "b4 = nn.Sequential(\n",
    "    Inception(480, 192, (96,208), (16,48), 64),\n",
    "    Inception(512, 160, (112,224), (24,64), 64),\n",
    "    Inception(512, 128, (128,256), (24,64), 64),\n",
    "    Inception(512, 112, (144,288), (32,64), 64),\n",
    "    Inception(528, 256, (160,320), (32,128), 128),\n",
    "    nn.MaxPool2d(kernel_size=3, stride=2, padding=1)\n",
    ")\n",
    "\n",
    "b5 = nn.Sequential(\n",
    "    Inception(832, 256, (160,320), (32,128), 128),\n",
    "    Inception(832, 384, (192,384), (48,128), 128),\n",
    "    nn.AdaptiveAvgPool2d((1,1)),\n",
    "    nn.Flatten()\n",
    ")\n",
    "\n",
    "net = nn.Sequential(b1, b2, b3, b4, b5, nn.Linear(1024, 10))"
   ]
  },
  {
   "cell_type": "code",
   "execution_count": 4,
   "metadata": {},
   "outputs": [],
   "source": [
    "def train(dataloader, net, loss, optim):\n",
    "    for batch, (X, y) in enumerate(dataloader):\n",
    "        X, y = X.to(device), y.to(device)\n",
    "        optim.zero_grad()\n",
    "        y_hat = net(X)\n",
    "        l = loss(y_hat, y)\n",
    "        l.backward()\n",
    "        optim.step()\n",
    "        if batch % 100 == 0:\n",
    "            running_loss = l.item()\n",
    "            current_batch = batch * len(X)\n",
    "            print('Train loss: %.4f, [%d/%d]' % (running_loss, current_batch, len(dataloader.dataset)))"
   ]
  },
  {
   "cell_type": "code",
   "execution_count": 5,
   "metadata": {},
   "outputs": [],
   "source": [
    "def test(dataloader, net, loss):\n",
    "    num_batches = len(dataloader)\n",
    "    val_loss = 0.0\n",
    "    acc = 0.0\n",
    "    with torch.no_grad():\n",
    "        for X, y in dataloader:\n",
    "            X, y = X.to(device), y.to(device)\n",
    "            y_hat = net(X)\n",
    "            val_loss += loss(y_hat, y).item()\n",
    "            acc += (y_hat.argmax(dim=1)==y).type(torch.float32).sum().item()\n",
    "    val_loss /= num_batches\n",
    "    acc /= len(dataloader.dataset)\n",
    "    print('Test accuracy: %.4f, Test average loss: %.4f' % (acc, val_loss))"
   ]
  },
  {
   "cell_type": "code",
   "execution_count": 6,
   "metadata": {},
   "outputs": [],
   "source": [
    "def init_weights(m):\n",
    "        if type(m) == nn.Linear or type(m) == nn.Conv2d:\n",
    "            nn.init.xavier_uniform_(m.weight)"
   ]
  },
  {
   "cell_type": "code",
   "execution_count": 7,
   "metadata": {},
   "outputs": [
    {
     "name": "stdout",
     "output_type": "stream",
     "text": [
      "The number of training data: 60000\n",
      "The number of test data: 10000\n"
     ]
    }
   ],
   "source": [
    "trans = torchvision.transforms.Compose([\n",
    "    torchvision.transforms.ToTensor(),\n",
    "    torchvision.transforms.Resize(224)\n",
    "])\n",
    "train_data = torchvision.datasets.FashionMNIST(\n",
    "    root='../data', train=True, transform=trans, download=False\n",
    ")\n",
    "test_data = torchvision.datasets.FashionMNIST(\n",
    "    root='../data', train=False, transform=trans, download=False\n",
    ")\n",
    "print('The number of training data:', len(train_data))\n",
    "print('The number of test data:', len(test_data))"
   ]
  },
  {
   "cell_type": "code",
   "execution_count": 8,
   "metadata": {},
   "outputs": [
    {
     "name": "stdout",
     "output_type": "stream",
     "text": [
      "The shape of X: torch.Size([64, 1, 224, 224])\n",
      "The shape of y: torch.Size([64])\n"
     ]
    }
   ],
   "source": [
    "batch_size = 64\n",
    "train_dataloader = torch.utils.data.DataLoader(train_data, batch_size=batch_size)\n",
    "test_dataloader = torch.utils.data.DataLoader(test_data, batch_size=batch_size)\n",
    "for X,y in test_dataloader:\n",
    "    print('The shape of X:', X.shape)\n",
    "    print('The shape of y:', y.shape)\n",
    "    break"
   ]
  },
  {
   "cell_type": "code",
   "execution_count": 9,
   "metadata": {},
   "outputs": [],
   "source": [
    "device = torch.device('cuda:0' if torch.cuda.is_available() else 'cpu')\n",
    "net = net.apply(init_weights).to(device)\n",
    "loss = torch.nn.CrossEntropyLoss()\n",
    "optim = torch.optim.SGD(net.parameters(), lr=1e-2, momentum=0.9)"
   ]
  },
  {
   "cell_type": "code",
   "execution_count": 10,
   "metadata": {},
   "outputs": [
    {
     "name": "stdout",
     "output_type": "stream",
     "text": [
      "Starting training ...\n",
      "Training on cuda:0\n",
      "epoch 1\n",
      "Train loss: 2.3120, [0/60000]\n",
      "Train loss: 2.3041, [6400/60000]\n",
      "Train loss: 2.2973, [12800/60000]\n",
      "Train loss: 2.2627, [19200/60000]\n",
      "Train loss: 1.5875, [25600/60000]\n",
      "Train loss: 1.0370, [32000/60000]\n",
      "Train loss: 0.9313, [38400/60000]\n",
      "Train loss: 0.7897, [44800/60000]\n",
      "Train loss: 0.7173, [51200/60000]\n",
      "Train loss: 0.6693, [57600/60000]\n",
      "Test accuracy: 0.7346, Test average loss: 0.6772\n",
      "epoch 2\n",
      "Train loss: 0.6128, [0/60000]\n",
      "Train loss: 0.5518, [6400/60000]\n",
      "Train loss: 0.4828, [12800/60000]\n",
      "Train loss: 0.4695, [19200/60000]\n",
      "Train loss: 0.4506, [25600/60000]\n",
      "Train loss: 0.4573, [32000/60000]\n",
      "Train loss: 0.3695, [38400/60000]\n",
      "Train loss: 0.5880, [44800/60000]\n",
      "Train loss: 0.4332, [51200/60000]\n",
      "Train loss: 0.4260, [57600/60000]\n",
      "Test accuracy: 0.8400, Test average loss: 0.4338\n",
      "epoch 3\n",
      "Train loss: 0.2961, [0/60000]\n",
      "Train loss: 0.3029, [6400/60000]\n",
      "Train loss: 0.2851, [12800/60000]\n",
      "Train loss: 0.3609, [19200/60000]\n",
      "Train loss: 0.4185, [25600/60000]\n",
      "Train loss: 0.4361, [32000/60000]\n",
      "Train loss: 0.3092, [38400/60000]\n",
      "Train loss: 0.5347, [44800/60000]\n",
      "Train loss: 0.3172, [51200/60000]\n",
      "Train loss: 0.3567, [57600/60000]\n",
      "Test accuracy: 0.8638, Test average loss: 0.3652\n",
      "epoch 4\n",
      "Train loss: 0.2556, [0/60000]\n",
      "Train loss: 0.2288, [6400/60000]\n",
      "Train loss: 0.2279, [12800/60000]\n",
      "Train loss: 0.3701, [19200/60000]\n",
      "Train loss: 0.3968, [25600/60000]\n",
      "Train loss: 0.3870, [32000/60000]\n",
      "Train loss: 0.3250, [38400/60000]\n",
      "Train loss: 0.4997, [44800/60000]\n",
      "Train loss: 0.2357, [51200/60000]\n",
      "Train loss: 0.3267, [57600/60000]\n",
      "Test accuracy: 0.8682, Test average loss: 0.3548\n",
      "epoch 5\n",
      "Train loss: 0.2271, [0/60000]\n",
      "Train loss: 0.2473, [6400/60000]\n",
      "Train loss: 0.1598, [12800/60000]\n",
      "Train loss: 0.2935, [19200/60000]\n",
      "Train loss: 0.3577, [25600/60000]\n",
      "Train loss: 0.3461, [32000/60000]\n",
      "Train loss: 0.3197, [38400/60000]\n",
      "Train loss: 0.4368, [44800/60000]\n",
      "Train loss: 0.2079, [51200/60000]\n",
      "Train loss: 0.3148, [57600/60000]\n",
      "Test accuracy: 0.8834, Test average loss: 0.3158\n",
      "Done!\n"
     ]
    }
   ],
   "source": [
    "num_epochs = 5\n",
    "print('Starting training ...')\n",
    "print('Training on', device)\n",
    "for epoch in range(num_epochs):\n",
    "    print('epoch %d' % (epoch+1))\n",
    "    train(train_dataloader, net, loss, optim)\n",
    "    test(test_dataloader, net, loss)\n",
    "print('Done!')"
   ]
  },
  {
   "cell_type": "code",
   "execution_count": null,
   "metadata": {},
   "outputs": [],
   "source": []
  }
 ],
 "metadata": {
  "kernelspec": {
   "display_name": "Python 3 (ipykernel)",
   "language": "python",
   "name": "python3"
  },
  "language_info": {
   "codemirror_mode": {
    "name": "ipython",
    "version": 3
   },
   "file_extension": ".py",
   "mimetype": "text/x-python",
   "name": "python",
   "nbconvert_exporter": "python",
   "pygments_lexer": "ipython3",
   "version": "3.8.12"
  }
 },
 "nbformat": 4,
 "nbformat_minor": 4
}
