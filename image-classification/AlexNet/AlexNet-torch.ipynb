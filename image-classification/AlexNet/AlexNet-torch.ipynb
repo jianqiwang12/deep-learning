{
 "cells": [
  {
   "cell_type": "code",
   "execution_count": 1,
   "metadata": {},
   "outputs": [],
   "source": [
    "import torch\n",
    "import torchvision\n",
    "from torch import nn\n",
    "from torch.nn import functional as F "
   ]
  },
  {
   "cell_type": "code",
   "execution_count": 2,
   "metadata": {},
   "outputs": [],
   "source": [
    "class AlexNet(nn.Module):\n",
    "\n",
    "    def __init__(self):\n",
    "        super().__init__()\n",
    "        self.conv1 = nn.Conv2d(1, 96, kernel_size=11, stride=4, padding=1)\n",
    "        self.pool1 = nn.MaxPool2d(kernel_size=3, stride=2)\n",
    "        self.conv2 = nn.Conv2d(96, 256, kernel_size=5, padding=2)\n",
    "        self.pool2 = nn.MaxPool2d(kernel_size=3, stride=2)\n",
    "        self.conv3 = nn.Conv2d(256, 384, kernel_size=3, padding=1)\n",
    "        self.conv4 = nn.Conv2d(384, 384, kernel_size=3, padding=1)\n",
    "        self.conv5 = nn.Conv2d(384, 256, kernel_size=3, padding=1)\n",
    "        self.pool3 = nn.MaxPool2d(kernel_size=3, stride=2)\n",
    "        self.flatten = nn.Flatten()\n",
    "        self.fc1 = nn.Linear(6400, 4096)\n",
    "        self.fc2 = nn.Linear(4096, 4096)\n",
    "        self.fc3 = nn.Linear(4096, 10)\n",
    "\n",
    "    def forward(self, X):\n",
    "        X = self.pool1(F.relu(self.conv1(X)))\n",
    "        X = self.pool2(F.relu(self.conv2(X)))\n",
    "        X = F.relu(self.conv3(X))\n",
    "        X = F.relu(self.conv4(X))\n",
    "        X = self.pool3(F.relu(self.conv5(X)))\n",
    "        X = self.flatten(X)\n",
    "        X = F.relu(self.fc1(X))\n",
    "        X = F.dropout(X, p=0.5)\n",
    "        X = F.relu(self.fc2(X))\n",
    "        X = F.dropout(X, p=0.5)\n",
    "        X = self.fc3(X)\n",
    "        return X"
   ]
  },
  {
   "cell_type": "code",
   "execution_count": 3,
   "metadata": {},
   "outputs": [
    {
     "name": "stdout",
     "output_type": "stream",
     "text": [
      "The number of training data: 60000\n",
      "The number of test data: 10000\n"
     ]
    }
   ],
   "source": [
    "trans = torchvision.transforms.Compose([\n",
    "    torchvision.transforms.ToTensor(),\n",
    "    torchvision.transforms.Resize(224)\n",
    "])\n",
    "train_data = torchvision.datasets.FashionMNIST(\n",
    "    root='../data', train=True, transform=trans, download=False\n",
    ")\n",
    "test_data = torchvision.datasets.FashionMNIST(\n",
    "    root='../data', train=False, transform=trans, download=False\n",
    ")\n",
    "print('The number of training data:', len(train_data))\n",
    "print('The number of test data:', len(test_data))"
   ]
  },
  {
   "cell_type": "code",
   "execution_count": 4,
   "metadata": {},
   "outputs": [
    {
     "name": "stdout",
     "output_type": "stream",
     "text": [
      "The shape of X: torch.Size([64, 1, 224, 224])\n",
      "The shape of y: torch.Size([64])\n"
     ]
    }
   ],
   "source": [
    "batch_size = 64\n",
    "trian_dataloader = torch.utils.data.DataLoader(train_data, batch_size=batch_size)\n",
    "test_dataloader = torch.utils.data.DataLoader(test_data, batch_size=batch_size)\n",
    "for X,y in test_dataloader:\n",
    "    print('The shape of X:', X.shape)\n",
    "    print('The shape of y:', y.shape)\n",
    "    break"
   ]
  },
  {
   "cell_type": "code",
   "execution_count": 5,
   "metadata": {},
   "outputs": [],
   "source": [
    "device = torch.device('cuda:0' if torch.cuda.is_available() else 'cpu')\n",
    "net = AlexNet().to(device)\n",
    "loss = nn.CrossEntropyLoss()\n",
    "trainer = torch.optim.Adam(net.parameters(), lr=1e-3)"
   ]
  },
  {
   "cell_type": "code",
   "execution_count": 6,
   "metadata": {},
   "outputs": [],
   "source": [
    "def train(net, dataloader, loss, trainer):\n",
    "    for batch, (X, y) in enumerate(dataloader):\n",
    "        X, y = X.to(device), y.to(device)\n",
    "        trainer.zero_grad()\n",
    "        y_hat = net(X)\n",
    "        l = loss(y_hat, y)\n",
    "        l.backward()\n",
    "        trainer.step()\n",
    "        if batch%100 == 0:\n",
    "            training_loss = l.item()\n",
    "            current_batch = batch * len(X)\n",
    "            print('Trianing loss: %.4f\\t[%d/%d]' % (training_loss, current_batch, len(dataloader.dataset)))\n"
   ]
  },
  {
   "cell_type": "code",
   "execution_count": 7,
   "metadata": {},
   "outputs": [],
   "source": [
    "def test(net, dataloader, loss):\n",
    "    num_batches = len(dataloader)\n",
    "    test_loss = 0.0\n",
    "    accuracy = 0.0\n",
    "    with torch.no_grad():\n",
    "        for X, y in dataloader:\n",
    "            X, y = X.to(device), y.to(device)\n",
    "            y_hat = net(X)\n",
    "            test_loss += loss(y_hat, y)\n",
    "            accuracy += (y_hat.argmax(dim=1)==y).type(torch.float32).sum().item()\n",
    "    test_loss /= num_batches\n",
    "    accuracy /= len(dataloader.dataset)\n",
    "    print('Test loss: %.4f\\tTest accuracy: %.4f' % (test_loss, accuracy))"
   ]
  },
  {
   "cell_type": "code",
   "execution_count": 8,
   "metadata": {},
   "outputs": [
    {
     "name": "stdout",
     "output_type": "stream",
     "text": [
      "training on cuda:0\n",
      "Epoch 1\n",
      "Trianing loss: 2.3042\t[0/60000]\n",
      "Trianing loss: 0.7100\t[6400/60000]\n",
      "Trianing loss: 0.3935\t[12800/60000]\n",
      "Trianing loss: 0.5874\t[19200/60000]\n",
      "Trianing loss: 0.5461\t[25600/60000]\n",
      "Trianing loss: 0.4507\t[32000/60000]\n",
      "Trianing loss: 0.4712\t[38400/60000]\n",
      "Trianing loss: 0.6649\t[44800/60000]\n",
      "Trianing loss: 0.4081\t[51200/60000]\n",
      "Trianing loss: 0.4042\t[57600/60000]\n",
      "Test loss: 0.4040\tTest accuracy: 0.8486\n",
      "Epoch 2\n",
      "Trianing loss: 0.3396\t[0/60000]\n",
      "Trianing loss: 0.3733\t[6400/60000]\n",
      "Trianing loss: 0.3204\t[12800/60000]\n",
      "Trianing loss: 0.4584\t[19200/60000]\n",
      "Trianing loss: 0.3872\t[25600/60000]\n",
      "Trianing loss: 0.3715\t[32000/60000]\n",
      "Trianing loss: 0.2932\t[38400/60000]\n",
      "Trianing loss: 0.5631\t[44800/60000]\n",
      "Trianing loss: 0.4125\t[51200/60000]\n",
      "Trianing loss: 0.2918\t[57600/60000]\n",
      "Test loss: 0.3623\tTest accuracy: 0.8662\n",
      "Epoch 3\n",
      "Trianing loss: 0.2629\t[0/60000]\n",
      "Trianing loss: 0.3396\t[6400/60000]\n",
      "Trianing loss: 0.2523\t[12800/60000]\n",
      "Trianing loss: 0.4614\t[19200/60000]\n",
      "Trianing loss: 0.3777\t[25600/60000]\n",
      "Trianing loss: 0.3792\t[32000/60000]\n",
      "Trianing loss: 0.2578\t[38400/60000]\n",
      "Trianing loss: 0.4578\t[44800/60000]\n",
      "Trianing loss: 0.3542\t[51200/60000]\n",
      "Trianing loss: 0.3160\t[57600/60000]\n",
      "Test loss: 0.3410\tTest accuracy: 0.8810\n",
      "Epoch 4\n",
      "Trianing loss: 0.2102\t[0/60000]\n",
      "Trianing loss: 0.3784\t[6400/60000]\n",
      "Trianing loss: 0.2519\t[12800/60000]\n",
      "Trianing loss: 0.3467\t[19200/60000]\n",
      "Trianing loss: 0.2625\t[25600/60000]\n",
      "Trianing loss: 0.4232\t[32000/60000]\n",
      "Trianing loss: 0.2327\t[38400/60000]\n",
      "Trianing loss: 0.4339\t[44800/60000]\n",
      "Trianing loss: 0.3681\t[51200/60000]\n",
      "Trianing loss: 0.3096\t[57600/60000]\n",
      "Test loss: 0.3151\tTest accuracy: 0.8862\n",
      "Epoch 5\n",
      "Trianing loss: 0.1665\t[0/60000]\n",
      "Trianing loss: 0.3817\t[6400/60000]\n",
      "Trianing loss: 0.2286\t[12800/60000]\n",
      "Trianing loss: 0.3128\t[19200/60000]\n",
      "Trianing loss: 0.2829\t[25600/60000]\n",
      "Trianing loss: 0.3717\t[32000/60000]\n",
      "Trianing loss: 0.1650\t[38400/60000]\n",
      "Trianing loss: 0.4053\t[44800/60000]\n",
      "Trianing loss: 0.2826\t[51200/60000]\n",
      "Trianing loss: 0.2371\t[57600/60000]\n",
      "Test loss: 0.3206\tTest accuracy: 0.8803\n",
      "Done!\n"
     ]
    }
   ],
   "source": [
    "EPOCHS = 5\n",
    "print('training on', device)\n",
    "for epoch in range(EPOCHS):\n",
    "    print('Epoch %d' % (epoch+1))\n",
    "    train(net, trian_dataloader, loss, trainer)\n",
    "    test(net, test_dataloader, loss)\n",
    "print('Done!')"
   ]
  },
  {
   "cell_type": "code",
   "execution_count": null,
   "metadata": {},
   "outputs": [],
   "source": []
  }
 ],
 "metadata": {
  "interpreter": {
   "hash": "4ebc51c9b13dc99464744e6a2bfb4e0ab09dbecf191f9790c30f90ddc17ba378"
  },
  "kernelspec": {
   "display_name": "Python 3 (ipykernel)",
   "language": "python",
   "name": "python3"
  },
  "language_info": {
   "codemirror_mode": {
    "name": "ipython",
    "version": 3
   },
   "file_extension": ".py",
   "mimetype": "text/x-python",
   "name": "python",
   "nbconvert_exporter": "python",
   "pygments_lexer": "ipython3",
   "version": "3.8.12"
  }
 },
 "nbformat": 4,
 "nbformat_minor": 4
}
