{
 "cells": [
  {
   "cell_type": "code",
   "execution_count": 1,
   "id": "4c01c7b0-d612-495d-818b-32c687d55c41",
   "metadata": {},
   "outputs": [],
   "source": [
    "import numpy as np\n",
    "import pandas as pd\n",
    "import torch\n",
    "from torch import nn"
   ]
  },
  {
   "cell_type": "code",
   "execution_count": 2,
   "id": "80d6d610-bab2-4944-af8b-2b35db2600a1",
   "metadata": {},
   "outputs": [],
   "source": [
    "train_data = pd.read_csv('./data/train.csv')\n",
    "test_data = pd.read_csv('./data/test.csv')"
   ]
  },
  {
   "cell_type": "code",
   "execution_count": 3,
   "id": "d8a9fb9e-ffcf-4685-83d1-3a62fa250aad",
   "metadata": {},
   "outputs": [
    {
     "name": "stdout",
     "output_type": "stream",
     "text": [
      "(47439, 41)\n",
      "(31626, 40)\n"
     ]
    }
   ],
   "source": [
    "print(train_data.shape)\n",
    "print(test_data.shape)"
   ]
  },
  {
   "cell_type": "code",
   "execution_count": 4,
   "id": "7eac7e9d-0266-4d48-a774-e7bcfad8c3c2",
   "metadata": {},
   "outputs": [],
   "source": [
    "all_features = pd.concat((train_data.iloc[:,1:-1], test_data.iloc[:,1:]))"
   ]
  },
  {
   "cell_type": "code",
   "execution_count": 5,
   "id": "b52353af-7c4c-4f78-8f02-0aaf2d6aa073",
   "metadata": {},
   "outputs": [],
   "source": [
    "numeric_features = all_features.dtypes[all_features.dtypes != 'object'].index\n",
    "all_features[numeric_features] = all_features[numeric_features].apply(\n",
    "    lambda x: (x - x.mean()) / x.std()\n",
    ")\n",
    "all_features[numeric_features] = all_features[numeric_features].fillna(0)\n",
    "input_features = all_features[numeric_features]"
   ]
  },
  {
   "cell_type": "code",
   "execution_count": 6,
   "id": "97ece328-859e-4502-9388-916b5d33b88d",
   "metadata": {},
   "outputs": [],
   "source": [
    "num_train = train_data.shape[0]\n",
    "\n",
    "train_features = torch.tensor(input_features[:num_train].values, dtype=torch.float32)\n",
    "train_labels = torch.tensor(train_data['Sold Price'].values.reshape(-1,1), dtype=torch.float32)\n",
    "\n",
    "test_features = torch.tensor(input_features[num_train:].values, dtype=torch.float32)"
   ]
  },
  {
   "cell_type": "code",
   "execution_count": 7,
   "id": "269de3e4",
   "metadata": {},
   "outputs": [],
   "source": [
    "train_dataset = torch.utils.data.TensorDataset(train_features,train_labels)\n",
    "train_dataloader = torch.utils.data.DataLoader(train_dataset, batch_size=128)"
   ]
  },
  {
   "cell_type": "code",
   "execution_count": 8,
   "id": "243f8e45-c7a9-4c06-9a37-fd0c9bed5d70",
   "metadata": {},
   "outputs": [
    {
     "data": {
      "text/plain": [
       "Sequential(\n",
       "  (0): Linear(in_features=19, out_features=128, bias=True)\n",
       "  (1): Linear(in_features=128, out_features=64, bias=True)\n",
       "  (2): Linear(in_features=64, out_features=1, bias=True)\n",
       ")"
      ]
     },
     "execution_count": 8,
     "metadata": {},
     "output_type": "execute_result"
    }
   ],
   "source": [
    "in_features = train_features.shape[1]\n",
    "device = torch.device('cuda:0' if torch.cuda.is_available() else 'cpu')\n",
    "net = nn.Sequential(\n",
    "    nn.Linear(in_features,128),\n",
    "    nn.Linear(128, 64),\n",
    "    nn.Linear(64, 1)\n",
    ")\n",
    "net.to(device)"
   ]
  },
  {
   "cell_type": "code",
   "execution_count": 9,
   "id": "c81d1460",
   "metadata": {},
   "outputs": [],
   "source": [
    "def log_rmse(net, features, labels):\n",
    "    # 为了在取对数时进一步稳定该值，将小于1的值设置为1\n",
    "    clipped_preds = torch.clamp(net(features), 1, float('inf'))\n",
    "    rmse = torch.sqrt(loss(torch.log(clipped_preds),\n",
    "                           torch.log(labels)))\n",
    "    return rmse.item()"
   ]
  },
  {
   "cell_type": "code",
   "execution_count": 10,
   "id": "f82e901c",
   "metadata": {},
   "outputs": [],
   "source": [
    "loss = nn.MSELoss()\n",
    "optimizer = torch.optim.Adam(net.parameters(), lr=1e-2)"
   ]
  },
  {
   "cell_type": "code",
   "execution_count": 11,
   "id": "8ae81eb8",
   "metadata": {},
   "outputs": [],
   "source": [
    "def train(dataloader, net, loss, optimizer):\n",
    "    for batch, (X,y) in enumerate(dataloader):\n",
    "        X, y = X.to(device), y.to(device)\n",
    "        optimizer.zero_grad()\n",
    "        y_hat = net(X)\n",
    "        l = loss(y_hat, y)\n",
    "        l.backward()\n",
    "        optimizer.step()\n",
    "        if batch % 50 == 0:\n",
    "            running_loss = log_rmse(net, X, y)\n",
    "            current = batch * len(X)\n",
    "            print('Train Loss: %.4f, [%d//%d]' % (running_loss, current, len(dataloader.dataset)))\n"
   ]
  },
  {
   "cell_type": "code",
   "execution_count": 12,
   "id": "9d2c13c6",
   "metadata": {},
   "outputs": [
    {
     "name": "stdout",
     "output_type": "stream",
     "text": [
      "training on cpu\n",
      "epoch: 1\n",
      "Train Loss: 13.7064, [0//47439]\n",
      "Train Loss: 10.0043, [6400//47439]\n",
      "Train Loss: 8.6673, [12800//47439]\n",
      "Train Loss: 9.4496, [19200//47439]\n",
      "Train Loss: 7.8336, [25600//47439]\n",
      "Train Loss: 8.2774, [32000//47439]\n",
      "Train Loss: 8.0186, [38400//47439]\n",
      "Train Loss: 8.6179, [44800//47439]\n",
      "epoch: 2\n",
      "Train Loss: 6.7405, [0//47439]\n",
      "Train Loss: 6.9012, [6400//47439]\n",
      "Train Loss: 5.7856, [12800//47439]\n",
      "Train Loss: 5.8757, [19200//47439]\n",
      "Train Loss: 4.4208, [25600//47439]\n",
      "Train Loss: 3.9636, [32000//47439]\n",
      "Train Loss: 3.7307, [38400//47439]\n",
      "Train Loss: 4.5824, [44800//47439]\n",
      "epoch: 3\n",
      "Train Loss: 0.7376, [0//47439]\n",
      "Train Loss: 2.3053, [6400//47439]\n",
      "Train Loss: 2.7251, [12800//47439]\n",
      "Train Loss: 1.7811, [19200//47439]\n",
      "Train Loss: 2.2698, [25600//47439]\n",
      "Train Loss: 1.2437, [32000//47439]\n",
      "Train Loss: 1.5297, [38400//47439]\n",
      "Train Loss: 1.2546, [44800//47439]\n",
      "epoch: 4\n",
      "Train Loss: 0.4145, [0//47439]\n",
      "Train Loss: 1.5783, [6400//47439]\n",
      "Train Loss: 1.2000, [12800//47439]\n",
      "Train Loss: 0.3228, [19200//47439]\n",
      "Train Loss: 1.1255, [25600//47439]\n",
      "Train Loss: 0.3775, [32000//47439]\n",
      "Train Loss: 1.5045, [38400//47439]\n",
      "Train Loss: 1.1461, [44800//47439]\n",
      "epoch: 5\n",
      "Train Loss: 0.3781, [0//47439]\n",
      "Train Loss: 1.5624, [6400//47439]\n",
      "Train Loss: 1.1143, [12800//47439]\n",
      "Train Loss: 0.2881, [19200//47439]\n",
      "Train Loss: 0.3587, [25600//47439]\n",
      "Train Loss: 0.3441, [32000//47439]\n",
      "Train Loss: 1.5017, [38400//47439]\n",
      "Train Loss: 1.1406, [44800//47439]\n",
      "epoch: 6\n",
      "Train Loss: 0.3632, [0//47439]\n",
      "Train Loss: 1.5588, [6400//47439]\n",
      "Train Loss: 1.1078, [12800//47439]\n",
      "Train Loss: 0.2779, [19200//47439]\n",
      "Train Loss: 0.3064, [25600//47439]\n",
      "Train Loss: 0.3279, [32000//47439]\n",
      "Train Loss: 1.4987, [38400//47439]\n",
      "Train Loss: 1.1378, [44800//47439]\n",
      "epoch: 7\n",
      "Train Loss: 0.3488, [0//47439]\n",
      "Train Loss: 1.5564, [6400//47439]\n",
      "Train Loss: 1.1039, [12800//47439]\n",
      "Train Loss: 0.2677, [19200//47439]\n",
      "Train Loss: 0.2858, [25600//47439]\n",
      "Train Loss: 0.3111, [32000//47439]\n",
      "Train Loss: 1.4952, [38400//47439]\n",
      "Train Loss: 1.1345, [44800//47439]\n",
      "epoch: 8\n",
      "Train Loss: 0.3333, [0//47439]\n",
      "Train Loss: 1.1177, [6400//47439]\n",
      "Train Loss: 1.1004, [12800//47439]\n",
      "Train Loss: 0.2557, [19200//47439]\n",
      "Train Loss: 0.2679, [25600//47439]\n",
      "Train Loss: 0.2927, [32000//47439]\n",
      "Train Loss: 1.4912, [38400//47439]\n",
      "Train Loss: 1.1309, [44800//47439]\n",
      "epoch: 9\n",
      "Train Loss: 0.3164, [0//47439]\n",
      "Train Loss: 1.1045, [6400//47439]\n",
      "Train Loss: 1.0969, [12800//47439]\n",
      "Train Loss: 0.2421, [19200//47439]\n",
      "Train Loss: 0.2498, [25600//47439]\n",
      "Train Loss: 0.2725, [32000//47439]\n",
      "Train Loss: 1.4871, [38400//47439]\n",
      "Train Loss: 1.1271, [44800//47439]\n",
      "epoch: 10\n",
      "Train Loss: 0.2985, [0//47439]\n",
      "Train Loss: 1.0969, [6400//47439]\n",
      "Train Loss: 0.2762, [12800//47439]\n",
      "Train Loss: 0.2269, [19200//47439]\n",
      "Train Loss: 0.2308, [25600//47439]\n",
      "Train Loss: 0.2510, [32000//47439]\n",
      "Train Loss: 1.4830, [38400//47439]\n",
      "Train Loss: 1.1233, [44800//47439]\n",
      "Done!\n"
     ]
    }
   ],
   "source": [
    "print('training on', device)\n",
    "epochs = 10\n",
    "for epoch in range(epochs):\n",
    "    print('epoch:', epoch+1)\n",
    "    train(train_dataloader, net, loss, optimizer)\n",
    "print('Done!')"
   ]
  },
  {
   "cell_type": "code",
   "execution_count": null,
   "id": "32ae6d74",
   "metadata": {},
   "outputs": [],
   "source": []
  }
 ],
 "metadata": {
  "kernelspec": {
   "display_name": "Python 3 (ipykernel)",
   "language": "python",
   "name": "python3"
  },
  "language_info": {
   "codemirror_mode": {
    "name": "ipython",
    "version": 3
   },
   "file_extension": ".py",
   "mimetype": "text/x-python",
   "name": "python",
   "nbconvert_exporter": "python",
   "pygments_lexer": "ipython3",
   "version": "3.9.12"
  }
 },
 "nbformat": 4,
 "nbformat_minor": 5
}
